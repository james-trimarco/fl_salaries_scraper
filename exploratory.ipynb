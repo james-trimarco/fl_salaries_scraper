{
 "cells": [
  {
   "cell_type": "markdown",
   "metadata": {},
   "source": [
    "# Exploratory Data Analysis for Florida Employee Salary data"
   ]
  },
  {
   "cell_type": "code",
   "execution_count": 1,
   "metadata": {},
   "outputs": [],
   "source": [
    "import pandas as pd\n",
    "from pathlib import Path\n",
    "\n",
    "from utils.format_table import format_table"
   ]
  },
  {
   "cell_type": "code",
   "execution_count": 2,
   "metadata": {},
   "outputs": [],
   "source": [
    "root = Path.cwd()\n",
    "archive_path = root / \"archive\""
   ]
  },
  {
   "cell_type": "markdown",
   "metadata": {},
   "source": [
    "## Import data\n",
    "Eventually we'll have a whole database. For now I just have two consecutive weekly data drops. "
   ]
  },
  {
   "cell_type": "code",
   "execution_count": 3,
   "metadata": {},
   "outputs": [
    {
     "name": "stdout",
     "output_type": "stream",
     "text": [
      "/Users/james/Documents/Data_Projects/fl_salaries_scraper/archive/fl_salaries_2021-01-18.csv\n",
      "108130\n",
      "/Users/james/Documents/Data_Projects/fl_salaries_scraper/archive/fl_salaries_2021-01-25.csv\n",
      "92400\n",
      "/Users/james/Documents/Data_Projects/fl_salaries_scraper/archive/fl_salaries_2020-10-12.csv\n",
      "108916\n",
      "/Users/james/Documents/Data_Projects/fl_salaries_scraper/archive/fl_salaries_2021-02-01.csv\n",
      "107999\n",
      "/Users/james/Documents/Data_Projects/fl_salaries_scraper/archive/fl_salaries_2021-02-08.csv\n",
      "107941\n"
     ]
    }
   ],
   "source": [
    "for csv_path in archive_path.glob(\"*.csv\"):\n",
    "    print(csv_path)\n",
    "    print(len(pd.read_csv(csv_path)))"
   ]
  },
  {
   "cell_type": "code",
   "execution_count": null,
   "metadata": {},
   "outputs": [],
   "source": []
  },
  {
   "cell_type": "code",
   "execution_count": 4,
   "metadata": {},
   "outputs": [
    {
     "name": "stdout",
     "output_type": "stream",
     "text": [
      "cleaning the report\n"
     ]
    },
    {
     "name": "stderr",
     "output_type": "stream",
     "text": [
      "ERROR:root:Internal Python error in the inspect module.\n",
      "Below is the traceback from this internal error.\n",
      "\n"
     ]
    },
    {
     "name": "stdout",
     "output_type": "stream",
     "text": [
      "                    agency_name                             budget_entity  \\\n",
      "0  AGENCY FOR HEALTH CARE ADMIN                    PGM: ADMIN AND SUPPORT   \n",
      "1  AGENCY FOR HEALTH CARE ADMIN                    PGM: ADMIN AND SUPPORT   \n",
      "2  AGENCY FOR HEALTH CARE ADMIN                     HEALTH FAC & PRAC REG   \n",
      "3  AGENCY FOR HEALTH CARE ADMIN  EXECUTIVE DIRECTION AND SUPPORT SERVICES   \n",
      "4  AGENCY FOR HEALTH CARE ADMIN  EXECUTIVE DIRECTION AND SUPPORT SERVICES   \n",
      "\n",
      "  position_number     last_name first_name middle_name  is_salaried  \\\n",
      "0        00059440     ABARBANEL     MARCUS         NaN         True   \n",
      "1        00064691  ABDEL-MESSIH      MAHER           S         True   \n",
      "2        00063235       ABRAHAM    DEIRDRE         NaN         True   \n",
      "3        00024435         ABRIL       VERA         NaN         True   \n",
      "4        00058972         ACUNA    JENIFER         NaN         True   \n",
      "\n",
      "   is_full_time class_code                          class_title  \\\n",
      "0          True      02109  SYSTEMS PROJECT ADMINISTRATOR - SES   \n",
      "1          True      02225   SENIOR MANAGEMENT ANALYST II - SES   \n",
      "2          True      05294          REGISTERED NURSE SPECIALIST   \n",
      "3          True      00440              REGULATORY SPECIALIST I   \n",
      "4          True      05877    HUMAN SERVICES PROGRAM SPECIALIST   \n",
      "\n",
      "  state_hire_date           salary ops_hourly_rate  \n",
      "0      2013-12-06  $     5,8710.08             NaN  \n",
      "1      2017-07-24  $     5,9430.80             NaN  \n",
      "2      2015-08-31  $     4,9855.26             NaN  \n",
      "3      2010-11-12  $     3,2722.82             NaN  \n",
      "4      2018-02-02  $     3,3697.04             NaN  \n",
      "Traceback (most recent call last):\n",
      "  File \"/Users/james/anaconda3/lib/python3.6/site-packages/IPython/core/interactiveshell.py\", line 2963, in run_code\n",
      "    exec(code_obj, self.user_global_ns, self.user_ns)\n",
      "  File \"<ipython-input-4-690afcf47c8a>\", line 5, in <module>\n",
      "    print(len(test))\n",
      "TypeError: object of type 'NoneType' has no len()\n",
      "\n",
      "During handling of the above exception, another exception occurred:\n",
      "\n",
      "Traceback (most recent call last):\n",
      "  File \"/Users/james/anaconda3/lib/python3.6/site-packages/IPython/core/interactiveshell.py\", line 1863, in showtraceback\n",
      "    stb = value._render_traceback_()\n",
      "AttributeError: 'TypeError' object has no attribute '_render_traceback_'\n",
      "\n",
      "During handling of the above exception, another exception occurred:\n",
      "\n",
      "Traceback (most recent call last):\n",
      "  File \"/Users/james/anaconda3/lib/python3.6/site-packages/IPython/core/ultratb.py\", line 1095, in get_records\n",
      "    return _fixed_getinnerframes(etb, number_of_lines_of_context, tb_offset)\n",
      "  File \"/Users/james/anaconda3/lib/python3.6/site-packages/IPython/core/ultratb.py\", line 311, in wrapped\n",
      "    return f(*args, **kwargs)\n",
      "  File \"/Users/james/anaconda3/lib/python3.6/site-packages/IPython/core/ultratb.py\", line 345, in _fixed_getinnerframes\n",
      "    records = fix_frame_records_filenames(inspect.getinnerframes(etb, context))\n",
      "  File \"/Users/james/anaconda3/lib/python3.6/inspect.py\", line 1490, in getinnerframes\n",
      "    frameinfo = (tb.tb_frame,) + getframeinfo(tb, context)\n",
      "  File \"/Users/james/anaconda3/lib/python3.6/inspect.py\", line 1448, in getframeinfo\n",
      "    filename = getsourcefile(frame) or getfile(frame)\n",
      "  File \"/Users/james/anaconda3/lib/python3.6/inspect.py\", line 696, in getsourcefile\n",
      "    if getattr(getmodule(object, filename), '__loader__', None) is not None:\n",
      "  File \"/Users/james/anaconda3/lib/python3.6/inspect.py\", line 733, in getmodule\n",
      "    if ismodule(module) and hasattr(module, '__file__'):\n",
      "  File \"/Users/james/anaconda3/lib/python3.6/site-packages/py/_vendored_packages/apipkg.py\", line 195, in __getattribute__\n",
      "    return getattr(getmod(), name)\n",
      "  File \"/Users/james/anaconda3/lib/python3.6/site-packages/py/_vendored_packages/apipkg.py\", line 179, in getmod\n",
      "    x = importobj(modpath, None)\n",
      "  File \"/Users/james/anaconda3/lib/python3.6/site-packages/py/_vendored_packages/apipkg.py\", line 69, in importobj\n",
      "    module = __import__(modpath, None, None, ['__doc__'])\n",
      "  File \"/Users/james/anaconda3/lib/python3.6/site-packages/pytest.py\", line 13, in <module>\n",
      "    from _pytest.fixtures import fixture, yield_fixture\n",
      "  File \"/Users/james/anaconda3/lib/python3.6/site-packages/_pytest/fixtures.py\", line 842, in <module>\n",
      "    class FixtureFunctionMarker(object):\n",
      "  File \"/Users/james/anaconda3/lib/python3.6/site-packages/_pytest/fixtures.py\", line 844, in FixtureFunctionMarker\n",
      "    params = attr.ib(convert=attr.converters.optional(tuple))\n",
      "TypeError: attrib() got an unexpected keyword argument 'convert'\n"
     ]
    },
    {
     "ename": "TypeError",
     "evalue": "object of type 'NoneType' has no len()",
     "output_type": "error",
     "traceback": [
      "\u001b[0;31m---------------------------------------------------------------------------\u001b[0m"
     ]
    }
   ],
   "source": [
    "first_path = archive_path / 'fl_salaries_2021-01-18.csv'\n",
    "first = pd.read_csv(first_path, dtype=\"object\")\n",
    "result, message, test = format_table(first)\n",
    "\n",
    "print(len(test))"
   ]
  },
  {
   "cell_type": "code",
   "execution_count": null,
   "metadata": {},
   "outputs": [],
   "source": [
    "message"
   ]
  },
  {
   "cell_type": "markdown",
   "metadata": {},
   "source": [
    "## Examine a sample of rows\n",
    "Looks like there is no employee ID column here. Too bad; that would have made things easier. Let's assume for now that if we take the first, last, and middle names, plus the date of hire, that's enough to unique identify the same employee across two of these data drops."
   ]
  },
  {
   "cell_type": "code",
   "execution_count": null,
   "metadata": {},
   "outputs": [],
   "source": [
    "first.sort_values(['Last Name', 'First Name']).head(5)"
   ]
  },
  {
   "cell_type": "markdown",
   "metadata": {},
   "source": [
    "## Merge the three files"
   ]
  },
  {
   "cell_type": "code",
   "execution_count": null,
   "metadata": {},
   "outputs": [],
   "source": [
    "merged = first.merge(\n",
    "    second[[\"Last Name\", \"First Name\", \"Middle Name\", \"State Hire Date\", \"Salary\", \"Class Title\"]],\n",
    "    how=\"inner\",\n",
    "    on=[\"Last Name\", \"First Name\", \"Middle Name\", \"State Hire Date\"],\n",
    ")"
   ]
  },
  {
   "cell_type": "markdown",
   "metadata": {},
   "source": [
    "## Find all the rows where the salary changed"
   ]
  },
  {
   "cell_type": "code",
   "execution_count": null,
   "metadata": {},
   "outputs": [],
   "source": [
    "cond_1 = merged['Salary_x'] != merged[\"Salary_y\"]\n",
    "cond_2 = ~merged['Salary_x'].isna()\n",
    "\n",
    "changed_salaries = merged[cond_1 & cond_2]\n",
    "print(len(changed_salaries))\n",
    "changed_salaries.sample(3)"
   ]
  },
  {
   "cell_type": "code",
   "execution_count": null,
   "metadata": {},
   "outputs": [],
   "source": []
  },
  {
   "cell_type": "code",
   "execution_count": null,
   "metadata": {},
   "outputs": [],
   "source": [
    "cond_3 = merged['Class Title_x'] != merged[\"Class Title_y\"]\n",
    "cond_4 = ~merged['Class Title_x'].isna()\n",
    "changed_title = merged[cond_3 & cond_4]\n",
    "print(len(changed_title))\n",
    "changed_title.sample(3)"
   ]
  },
  {
   "cell_type": "code",
   "execution_count": null,
   "metadata": {},
   "outputs": [],
   "source": [
    "changed_salaries['Agency Name'].value_counts()"
   ]
  },
  {
   "cell_type": "code",
   "execution_count": null,
   "metadata": {},
   "outputs": [],
   "source": [
    "first['Agency Name'].value_counts()"
   ]
  },
  {
   "cell_type": "code",
   "execution_count": null,
   "metadata": {},
   "outputs": [],
   "source": []
  }
 ],
 "metadata": {
  "kernelspec": {
   "display_name": "Python 3",
   "language": "python",
   "name": "python3"
  },
  "language_info": {
   "codemirror_mode": {
    "name": "ipython",
    "version": 3
   },
   "file_extension": ".py",
   "mimetype": "text/x-python",
   "name": "python",
   "nbconvert_exporter": "python",
   "pygments_lexer": "ipython3",
   "version": "3.6.8"
  },
  "toc": {
   "base_numbering": 1,
   "nav_menu": {},
   "number_sections": true,
   "sideBar": true,
   "skip_h1_title": false,
   "title_cell": "Table of Contents",
   "title_sidebar": "Contents",
   "toc_cell": false,
   "toc_position": {},
   "toc_section_display": true,
   "toc_window_display": false
  }
 },
 "nbformat": 4,
 "nbformat_minor": 2
}
